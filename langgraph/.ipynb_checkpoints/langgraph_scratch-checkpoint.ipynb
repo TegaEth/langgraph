{
 "cells": [
  {
   "cell_type": "code",
   "execution_count": null,
   "metadata": {},
   "outputs": [],
   "source": [
    "import os\n",
    "from dotenv import load_dotenv\n",
    "load_dotenv()\n",
    "\n",
    "CEREBRAS_API_KEY=os.getenv('CEREBRAS_API_KEY')\n",
    "TAVILY_API_KEY=os.getenv('TAVILY_API_KEY')\n",
    "LANGSMITH_API_KEY = os.getenv('LANGSMITH_API_KEY')\n",
    "LANGSMITH_TRACING=os.getenv('LANGSMITH_TRACING')\n",
    "LANGSMITH_ENDPOINT=os.getenv('LANGSMITH_ENDPOINT')\n",
    "LANGSMITH_API_KEY=os.getenv('LANGSMITH_API_KEY')\n",
    "LANGSMITH_PROJECT=os.getenv('LANGSMITH_PROJECT')\n",
    "TAVILY_API_KEY=os.getenv('TAVILY_API_KEY')"
   ]
  }
 ],
 "metadata": {
  "language_info": {
   "name": "python"
  }
 },
 "nbformat": 4,
 "nbformat_minor": 2
}
