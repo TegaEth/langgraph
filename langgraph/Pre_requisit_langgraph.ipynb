{
 "cells": [
  {
   "cell_type": "code",
   "execution_count": 20,
   "metadata": {},
   "outputs": [
    {
     "data": {
      "text/plain": [
       "True"
      ]
     },
     "execution_count": 20,
     "metadata": {},
     "output_type": "execute_result"
    }
   ],
   "source": [
    "import os\n",
    "from dotenv import load_dotenv\n",
    "load_dotenv()"
   ]
  },
  {
   "cell_type": "code",
   "execution_count": 86,
   "metadata": {},
   "outputs": [],
   "source": [
    "CEREBRAS_API_KEY=os.getenv('CEREBRAS_API_KEY')\n",
    "TAVILY_API_KEY=os.getenv('TAVILY_API_KEY')\n",
    "LANGSMITH_API_KEY = os.getenv('LANGSMITH_API_KEY')\n",
    "LANGSMITH_TRACING=os.getenv('LANGSMITH_TRACING')\n",
    "LANGSMITH_ENDPOINT=os.getenv('LANGSMITH_ENDPOINT')\n",
    "LANGSMITH_API_KEY=os.getenv('LANGSMITH_API_KEY')\n",
    "LANGSMITH_PROJECT=os.getenv('LANGSMITH_PROJECT')\n",
    "TAVILY_API_KEY=os.getenv('TAVILY_API_KEY')"
   ]
  },
  {
   "cell_type": "code",
   "execution_count": 87,
   "metadata": {},
   "outputs": [],
   "source": [
    "os.environ['CEREBRAS_API_KEY'] = CEREBRAS_API_KEY\n",
    "os.environ['TAVILY_API_KEY'] = TAVILY_API_KEY\n",
    "os.environ['LANGSMITH_API_KEY'] = LANGSMITH_API_KEY\n",
    "os.environ['LANGSMITH_TRACING'] = \"true\"\n",
    "os.environ['LANGSMITH_ENDPOINT'] = \"https://api.smith.langchain.com\"\n",
    "os.environ['LANGSMITH_PROJECT'] = LANGSMITH_PROJECT\n",
    "os.environ['TAVILY_API_KEY'] = TAVILY_API_KEY"
   ]
  },
  {
   "cell_type": "code",
   "execution_count": 88,
   "metadata": {},
   "outputs": [],
   "source": [
    "from langchain_cerebras import ChatCerebras\n",
    "\n",
    "llm = ChatCerebras(\n",
    "    model=\"llama-3.3-70b\",\n",
    ")"
   ]
  },
  {
   "cell_type": "code",
   "execution_count": 90,
   "metadata": {
    "editable": true,
    "slideshow": {
     "slide_type": ""
    },
    "tags": []
   },
   "outputs": [
    {
     "name": "stdin",
     "output_type": "stream",
     "text": [
      "enter a prompt, to quit press q:  quit\n"
     ]
    },
    {
     "name": "stdout",
     "output_type": "stream",
     "text": [
      "goodbye!\n"
     ]
    },
    {
     "name": "stdout",
     "output_type": "stream",
     "text": [
      "Merge with artificial intelligent systems.\n"
     ]
    },
    {
     "name": "stdout",
     "output_type": "stream",
     "text": [
      "enter a prompt, to quit press q:  quit\n"
     ]
    },
    {
     "name": "stdout",
     "output_type": "stream",
     "text": [
      "goodbye!\n"
     ]
    }
   ],
   "source": [
    "while True:\n",
    "    question = input(\"enter a prompt, to quit press q: \")\n",
    "    if question != \"quit\":\n",
    "        print(llm.invoke(question).content)\n",
    "    else:\n",
    "        print(\"goodbye!\")\n",
    "        break"
   ]
  },
  {
   "cell_type": "code",
   "execution_count": 91,
   "metadata": {},
   "outputs": [],
   "source": [
    "from langchain_core.chat_history import BaseChatMessageHistory\n",
    "from langchain_core.chat_history import InMemoryChatMessageHistory\n",
    "from langchain_core.runnables.history import RunnableWithMessageHistory\n",
    "from langchain_core.messages import AIMessage"
   ]
  },
  {
   "cell_type": "code",
   "execution_count": 92,
   "metadata": {},
   "outputs": [],
   "source": [
    "store = {}"
   ]
  },
  {
   "cell_type": "code",
   "execution_count": 93,
   "metadata": {},
   "outputs": [],
   "source": [
    "def get_session_history(session_id: str) -> BaseChatMessageHistory:\n",
    "    if session_id not in store:\n",
    "        store[session_id] = InMemoryChatMessageHistory()\n",
    "    return store[session_id]"
   ]
  },
  {
   "cell_type": "code",
   "execution_count": 94,
   "metadata": {},
   "outputs": [],
   "source": [
    "config = {\"configurable\": {\"session_id\": \"firstchat\"}}"
   ]
  },
  {
   "cell_type": "code",
   "execution_count": 95,
   "metadata": {},
   "outputs": [],
   "source": [
    "model_with_memory = RunnableWithMessageHistory(llm, get_session_history)"
   ]
  },
  {
   "cell_type": "code",
   "execution_count": 96,
   "metadata": {},
   "outputs": [
    {
     "data": {
      "text/plain": [
       "\"Hello Ochi Ojie, it's nice to meet you. Is there something I can help you with or would you like to chat?\""
      ]
     },
     "execution_count": 96,
     "metadata": {},
     "output_type": "execute_result"
    }
   ],
   "source": [
    "model_with_memory.invoke((\"Hi, i am Ochi Ojie\"), config=config).content"
   ]
  },
  {
   "cell_type": "code",
   "execution_count": 97,
   "metadata": {},
   "outputs": [
    {
     "data": {
      "text/plain": [
       "'Your name is Ochi Ojie.'"
      ]
     },
     "execution_count": 97,
     "metadata": {},
     "output_type": "execute_result"
    }
   ],
   "source": [
    "model_with_memory.invoke((\"what is my name?\"), config=config).content"
   ]
  },
  {
   "cell_type": "code",
   "execution_count": 98,
   "metadata": {},
   "outputs": [
    {
     "data": {
      "text/plain": [
       "{'firstchat': InMemoryChatMessageHistory(messages=[HumanMessage(content='Hi, i am Ochi Ojie', additional_kwargs={}, response_metadata={}), AIMessage(content=\"Hello Ochi Ojie, it's nice to meet you. Is there something I can help you with or would you like to chat?\", additional_kwargs={'refusal': None}, response_metadata={'token_usage': {'completion_tokens': 29, 'prompt_tokens': 43, 'total_tokens': 72, 'completion_tokens_details': None, 'prompt_tokens_details': None}, 'model_name': 'llama-3.3-70b', 'system_fingerprint': 'fp_4a36a9b9a8b8ef701032', 'id': 'chatcmpl-b4fb5ac4-60ed-4b0a-b1c5-01475e645b97', 'finish_reason': 'stop', 'logprobs': None}, id='run-65522da4-f03a-4d34-8ee6-be08b03e41ff-0', usage_metadata={'input_tokens': 43, 'output_tokens': 29, 'total_tokens': 72, 'input_token_details': {}, 'output_token_details': {}}), HumanMessage(content='what is my name?', additional_kwargs={}, response_metadata={}), AIMessage(content='Your name is Ochi Ojie.', additional_kwargs={'refusal': None}, response_metadata={'token_usage': {'completion_tokens': 9, 'prompt_tokens': 86, 'total_tokens': 95, 'completion_tokens_details': None, 'prompt_tokens_details': None}, 'model_name': 'llama-3.3-70b', 'system_fingerprint': 'fp_c1b1963fdfa747d6bac1', 'id': 'chatcmpl-25137664-8aa9-47cd-9e95-eb33d37f38f9', 'finish_reason': 'stop', 'logprobs': None}, id='run-48a5f0d9-0a7a-4245-b7cc-3376d749f83e-0', usage_metadata={'input_tokens': 86, 'output_tokens': 9, 'total_tokens': 95, 'input_token_details': {}, 'output_token_details': {}})])}"
      ]
     },
     "execution_count": 98,
     "metadata": {},
     "output_type": "execute_result"
    }
   ],
   "source": [
    "store"
   ]
  },
  {
   "cell_type": "markdown",
   "metadata": {},
   "source": [
    "# RAG with LCEL"
   ]
  },
  {
   "cell_type": "code",
   "execution_count": 99,
   "metadata": {},
   "outputs": [],
   "source": [
    "from langchain_community.document_loaders import TextLoader, DirectoryLoader\n",
    "from langchain.text_splitter import RecursiveCharacterTextSplitter\n",
    "from langchain_community.vectorstores import Chroma\n",
    "from langchain import PromptTemplate\n",
    "from langchain_core.runnables import RunnableParallel, RunnablePassthrough , RunnableLambda\n",
    "from langchain_core.output_parsers import StrOutputParser"
   ]
  },
  {
   "cell_type": "code",
   "execution_count": 100,
   "metadata": {},
   "outputs": [],
   "source": [
    "# from sentence_transformers import SentenceTransformer\n",
    "# embedding = SentenceTransformer('sentence-transformers/multi-qa-MiniLM-L6-cos-v1')\n",
    "\n",
    "from langchain_huggingface import HuggingFaceEmbeddings\n",
    "\n",
    "# Wrapping the SentenceTransformer with LangChain-compatible embedding\n",
    "embedding = HuggingFaceEmbeddings(model_name=\"sentence-transformers/multi-qa-MiniLM-L6-cos-v1\")"
   ]
  },
  {
   "cell_type": "code",
   "execution_count": 101,
   "metadata": {
    "scrolled": true
   },
   "outputs": [],
   "source": [
    "## Reading the txt files from source directory\n",
    "\n",
    "loader = DirectoryLoader('../data', glob=\"./*.txt\", loader_cls = TextLoader)\n",
    "docs = loader.load()\n",
    "\n",
    "### Creating chunks using recursive character splitter\n",
    "\n",
    "text_splitter = RecursiveCharacterTextSplitter(\n",
    "    chunk_size=50,\n",
    "    chunk_overlap=10,\n",
    "    length_function=len\n",
    ")\n",
    "\n",
    "new_docs = text_splitter.split_documents(documents=docs)\n",
    "doc_strings = [doc.page_content for doc in new_docs]\n",
    "\n",
    "### Creating retriever using vector DB\n",
    "\n",
    "db = Chroma.from_documents(new_docs, embedding)\n",
    "retriever = db.as_retriever(search_kwargs={\"k\": 4})"
   ]
  },
  {
   "cell_type": "code",
   "execution_count": 102,
   "metadata": {},
   "outputs": [],
   "source": [
    "template = \"\"\"Answer the question based only on the following context:\n",
    "{context}\n",
    "\n",
    "Question: {question}\n",
    "\"\"\"\n",
    "\n",
    "prompt = PromptTemplate.from_template(template)"
   ]
  },
  {
   "cell_type": "code",
   "execution_count": 103,
   "metadata": {},
   "outputs": [],
   "source": [
    "retrieval_chain = (\n",
    "    RunnableParallel({\"context\": retriever, \"question\": RunnablePassthrough()})\n",
    "    | prompt\n",
    "    | llm\n",
    "    | StrOutputParser()\n",
    ")"
   ]
  },
  {
   "cell_type": "code",
   "execution_count": 104,
   "metadata": {},
   "outputs": [
    {
     "name": "stdout",
     "output_type": "stream",
     "text": [
      "Minoxidil is a topical medication primarily used. Unfortunately, the provided context does not specify its uses or benefits. However, it can be inferred that Minoxidil is used for a specific medical purpose, but its exact utility to you would depend on the condition it is intended to treat, which is not mentioned in the given context.\n"
     ]
    }
   ],
   "source": [
    "question = \"what is minoxidil ? can you tell me how it's useful to me?\"\n",
    "print(retrieval_chain.invoke(question))"
   ]
  },
  {
   "cell_type": "code",
   "execution_count": 105,
   "metadata": {},
   "outputs": [
    {
     "name": "stdout",
     "output_type": "stream",
     "text": [
      "The provided context does not specify what Minoxidil is FDA-approved for. It only mentions that Minoxidil is FDA-approved, but the purpose or condition it's approved for is not stated.\n"
     ]
    }
   ],
   "source": [
    "question = \"what is minoxidil FDA-approved for ?\"\n",
    "print(retrieval_chain.invoke(question))"
   ]
  },
  {
   "cell_type": "code",
   "execution_count": 106,
   "metadata": {},
   "outputs": [
    {
     "name": "stdout",
     "output_type": "stream",
     "text": [
      "Based on the given context, here are 3 important points about Llama 3:\n",
      "\n",
      "1. **Llama 3 has an 8B parameter version**: The context mentions that there is an 8B parameter version of Llama 3, indicating that it is a large language model with a significant number of parameters.\n",
      "2. **Llama 3 was released by Meta**: The context states that \"Alongside the release of Llama 3, Meta added\", suggesting that Meta is the organization responsible for releasing Llama 3.\n",
      "3. **Llama 3 is a language model**: Although the context does not explicitly define what Llama 3 is, based on the mention of an 8B parameter version, it can be inferred that Llama 3 is a type of large language model, likely used for natural language processing tasks.\n"
     ]
    }
   ],
   "source": [
    "question = \"what is llama3 ? can you highlight 3 important points\"\n",
    "print(retrieval_chain.invoke(question))"
   ]
  },
  {
   "cell_type": "markdown",
   "metadata": {},
   "source": [
    "# Tools and Agents"
   ]
  },
  {
   "cell_type": "code",
   "execution_count": 110,
   "metadata": {},
   "outputs": [],
   "source": [
    "from langchain_community.tools import WikipediaQueryRun\n",
    "from langchain_community.utilities import WikipediaAPIWrapper"
   ]
  },
  {
   "cell_type": "code",
   "execution_count": 111,
   "metadata": {},
   "outputs": [],
   "source": [
    "api_wrapper = WikipediaAPIWrapper()"
   ]
  },
  {
   "cell_type": "code",
   "execution_count": 112,
   "metadata": {},
   "outputs": [],
   "source": [
    "tool = WikipediaQueryRun(api_wrapper=api_wrapper)"
   ]
  },
  {
   "cell_type": "code",
   "execution_count": 113,
   "metadata": {},
   "outputs": [
    {
     "data": {
      "text/plain": [
       "{'query': {'description': 'query to look up on wikipedia',\n",
       "  'title': 'Query',\n",
       "  'type': 'string'}}"
      ]
     },
     "execution_count": 113,
     "metadata": {},
     "output_type": "execute_result"
    }
   ],
   "source": [
    "tool.args"
   ]
  },
  {
   "cell_type": "code",
   "execution_count": 114,
   "metadata": {},
   "outputs": [
    {
     "name": "stdout",
     "output_type": "stream",
     "text": [
      "Page: LangChain\n",
      "Summary: LangChain is a software framework that helps facilitate the integration of large language models (LLMs) into applications. As a language model integration framework, LangChain's use-cases largely overlap with those of language models in general, including document analysis and summarization, chatbots, and code analysis.\n",
      "\n",
      "\n",
      "\n",
      "Page: Retrieval-augmented generation\n",
      "Summary: Retrieval-augmented generation (RAG) is a technique that enables generative artificial intelligence (Gen AI) models to retrieve and incorporate new information. It modifies interactions with a large language model (LLM) so that the model responds to user queries with reference to a specified set of documents, using this information to supplement information from its pre-existing training data. This allows LLMs to use domain-specific and/or updated information. Use cases include providing chatbot access to internal company data or generating responses based on authoritative sources.\n",
      "RAG improves large language models (LLMs) by incorporating information retrieval before generating responses. Unlike traditional LLMs that rely on static training data, RAG pulls relevant text from databases, uploaded documents, or web sources. According to Ars Technica, \"RAG is a way of improving LLM performance, in essence by blending the LLM process with a web search or other document look-up process to help LLMs stick to the facts.\" This method helps reduce AI hallucinations, which have led to real-world issues like chatbots inventing policies or lawyers citing nonexistent legal cases.\n",
      "By dynamically retrieving information, RAG enables AI to provide more accurate responses without frequent retraining. According to IBM, \"RAG also reduces the need for users to continuously train the model on new data and update its parameters as circumstances evolve. In this way, RAG can lower the computational and financial costs of running LLM-powered chatbots in an enterprise setting.\"\n",
      "Beyond efficiency gains, RAG also allows LLMs to include source references in their responses, enabling users to verify information by reviewing cited documents or original sources. This can provide greater transparency, as users can cross-check retrieved content to ensure accuracy and relevance.\n",
      "The term \"retrieval-augmented generation\" (RAG) was first introduced in 2020 by Douwe Kiela, Patrick Lewis, Ethan Perez, Aleksandra Piktus, Fabio Petroni, Vladimir Karpukhin, Naman Goyal, Heinrich Küttler, Mike Lewis, Wen-tau Yih, Tim Rocktäschel, and Sebastian Riedel in their research paper Retrieval-Augmented Generation for Knowledge-Intensive NLP Tasks, at Meta.\n",
      "\n",
      "Page: Model Context Protocol\n",
      "Summary: The Model Context Protocol (MCP) is an open standard developed by the artificial intelligence company Anthropic for enabling large language model (LLM) applications to interact with external tools, systems, and data sources. Designed to standardize context exchange between AI assistants and software environments, MCP provides a model-agnostic interface for reading files, executing functions, and handling contextual prompts. It was officially announced and open-sourced by Anthropic in November 2024, with subsequent adoption by major AI providers including OpenAI and Google DeepMind.\n"
     ]
    }
   ],
   "source": [
    "print(tool.run({'query':'langchain'}))"
   ]
  },
  {
   "cell_type": "code",
   "execution_count": 118,
   "metadata": {},
   "outputs": [],
   "source": [
    "from langchain_community.tools import YouTubeSearchTool"
   ]
  },
  {
   "cell_type": "code",
   "execution_count": 119,
   "metadata": {},
   "outputs": [],
   "source": [
    "youtube_tool = YouTubeSearchTool()"
   ]
  },
  {
   "cell_type": "code",
   "execution_count": 120,
   "metadata": {},
   "outputs": [
    {
     "data": {
      "text/plain": [
       "'youtube_search'"
      ]
     },
     "execution_count": 120,
     "metadata": {},
     "output_type": "execute_result"
    }
   ],
   "source": [
    "youtube_tool.name"
   ]
  },
  {
   "cell_type": "code",
   "execution_count": 121,
   "metadata": {},
   "outputs": [
    {
     "data": {
      "text/plain": [
       "\"['https://www.youtube.com/watch?v=3ZauAhbTyBE&pp=ygUMc3Vubnkgc2F2aXRh', 'https://www.youtube.com/watch?v=ktjJAxaX8rc&pp=ygUMc3Vubnkgc2F2aXRh']\""
      ]
     },
     "execution_count": 121,
     "metadata": {},
     "output_type": "execute_result"
    }
   ],
   "source": [
    "youtube_tool.run(\"sunny savita\")"
   ]
  },
  {
   "cell_type": "code",
   "execution_count": 122,
   "metadata": {},
   "outputs": [],
   "source": [
    "from langchain_community.tools.tavily_search import TavilySearchResults"
   ]
  },
  {
   "cell_type": "code",
   "execution_count": 123,
   "metadata": {},
   "outputs": [],
   "source": [
    "search_tool = TavilySearchResults()"
   ]
  },
  {
   "cell_type": "code",
   "execution_count": 124,
   "metadata": {},
   "outputs": [
    {
     "data": {
      "text/plain": [
       "[{'title': 'EU plans to end Russian gas imports by end of 2027 - BBC',\n",
       "  'url': 'https://www.bbc.com/news/articles/c04547pr9vqo',\n",
       "  'content': 'In response to the plans, Kremlin spokesperson Dmitry Peskov told the Reuters news agency on Tuesday that Europe was \"shooting itself in the foot\".\\nThe EU vowed to end its energy relations with Russia after Moscow launched its full-scale invasion of Ukraine in 2022.\\nA set of legislative proposals will be tabled in June asking all EU member states to make \"national plans\" to phase out Russian gas, nuclear fuel and oil imports, according to the European Commission.\\nEuropean Union [...] The EU hopes to move away from Russian gas by \"enhancing energy efficiency, accelerating the deployment of renewable energy and diversifying supplies\", the European Commission said.\\nWhile EU dependence on Russian oil, gas and nuclear fuels has decreased significantly since Putin\\'s invasion of Ukraine, the bloc still imports a significant quantity of its energy from Russia.\\nAccording to the report, EU gas imports from Russia have decreased from 45% in 2021 to 19% in 2024. [...] Under the plans, imports of all Russian gas and liquefied natural gas to European Union member states will be banned by the end of 2027.\\n\"No more will we permit Russia to weaponise energy against us... No more will we indirectly help fill up the [Kremlin\\'s] war chests,\" European Commissioner for Energy Dan Jorgensen said in a news conference in Strasbourg on Tuesday.',\n",
       "  'score': 0.79215926},\n",
       " {'title': 'EU to propose blanket ban on Russian gas - Politico.eu',\n",
       "  'url': 'https://www.politico.eu/article/eu-to-propose-blanket-ban-russia-gas/',\n",
       "  'content': 'As part of its plan, Brussels will propose reporting requirements on firms to detail the volume and duration of their Russian energy contracts and ask countries to offer plans this year to phase out Moscow-linked supplies. EU officials will also beef up an existing scheme that leverages the bloc’s joint gas purchasing power to bring down prices. [...] The new strategy is the latest step in a years-long EU campaign to end energy ties with Russia after its all-out invasion in 2022. But it lands as the bloc strains to sustain that momentum, with high energy prices denting economic growth and some politicians and firms calling for a return to Russian imports. [...] “Today the European Union sends a very clear message to Russia — no more,” EU energy chief Dan Jørgensen said as he unveiled the plan. “No more will we allow our member states to be blackmailed, no more will we indirectly help fill up the war chest in the Kremlin.\"',\n",
       "  'score': 0.767429},\n",
       " {'title': 'EU to fully end its dependency on Russian energy',\n",
       "  'url': 'https://ec.europa.eu/commission/presscorner/detail/en/ip_25_1131',\n",
       "  'content': 'The EU will end its dependency on Russian energy by stopping the import of Russian gas and oil and phasing out Russian nuclear energy,',\n",
       "  'score': 0.7663815},\n",
       " {'title': 'Roadmap to fully end EU dependency on Russian energy',\n",
       "  'url': 'https://commission.europa.eu/news/roadmap-fully-end-eu-dependency-russian-energy-2025-05-06_en',\n",
       "  'content': \"The EU has dropped its share of Russian gas imports from 45% to 19%, thanks to the\\xa0REPowerEU Plan, launched in May 2022 to reduce the EU’s dependency on Russian energy. However, the EU saw a rebound in Russian gas imports in 2024. The European Commission has therefore presented a roadmap to ensure the EU fully ends its dependency on Russian energy, while ensuring stable energy supplies and prices across the EU. [...] gas: stop all imports of Russian gas by the end of 2027 by improving the transparency, monitoring and traceability of Russian gas across the EU markets. New contracts with suppliers of Russian gas will be prevented and spot contracts (for immediate payment) will be stopped by the end of 2025.\\noil: take fresh action to address Russia's ‘shadow fleet’ (vessels employed by Russia to evade sanctions)\\u202ftransporting oil [...] The roadmap will see a gradual removal of Russian oil, gas and nuclear energy from the EU markets in a coordinated and secure manner as the EU transitions to clean energy. EU countries will prepare national plans by the end of 2025 setting out how they will contribute to phasing out imports of Russian gas, nuclear energy and oil. At the same time, efforts will continue to accelerate the EU’s energy transition and diversify\\u202fenergy supplies to eliminate risks to the security of supply and market\",\n",
       "  'score': 0.755078},\n",
       " {'title': 'EU Seeks to Cut Energy Ties With Moscow Through Ban on Gas Deals',\n",
       "  'url': 'https://www.bloomberg.com/news/articles/2025-05-06/eu-plan-to-end-addiction-to-russian-gas-faces-geopolitical-risks',\n",
       "  'content': \"The European Commission has unveiled a roadmap to end the EU's reliance on Russian energy, aiming to terminate all contracts with Russian gas\",\n",
       "  'score': 0.72489023}]"
      ]
     },
     "execution_count": 124,
     "metadata": {},
     "output_type": "execute_result"
    }
   ],
   "source": [
    "search_tool.invoke(\"what is happening between EU and Russia concerning energy?\")"
   ]
  },
  {
   "cell_type": "code",
   "execution_count": 126,
   "metadata": {},
   "outputs": [],
   "source": [
    "from langchain.agents import AgentType\n",
    "from langchain.agents import load_tools\n",
    "from langchain.agents import initialize_agent"
   ]
  },
  {
   "cell_type": "code",
   "execution_count": 127,
   "metadata": {},
   "outputs": [],
   "source": [
    "tool = load_tools(['wikipedia'], llm=llm)"
   ]
  },
  {
   "cell_type": "code",
   "execution_count": 129,
   "metadata": {},
   "outputs": [
    {
     "name": "stderr",
     "output_type": "stream",
     "text": [
      "/var/folders/_f/t1w94w1n759_mq486wwt1z9m0000gn/T/ipykernel_31933/2646369436.py:1: LangChainDeprecationWarning: LangChain agents will continue to be supported, but it is recommended for new use cases to be built with LangGraph. LangGraph offers a more flexible and full-featured framework for building agents, including support for tool-calling, persistence of state, and human-in-the-loop workflows. For details, refer to the `LangGraph documentation <https://langchain-ai.github.io/langgraph/>`_ as well as guides for `Migrating from AgentExecutor <https://python.langchain.com/docs/how_to/migrate_agent/>`_ and LangGraph's `Pre-built ReAct agent <https://langchain-ai.github.io/langgraph/how-tos/create-react-agent/>`_.\n",
      "  agent=initialize_agent(tool,llm,agent=AgentType.ZERO_SHOT_REACT_DESCRIPTION, verbose=True)\n"
     ]
    }
   ],
   "source": [
    "agent=initialize_agent(tool,llm,agent=AgentType.ZERO_SHOT_REACT_DESCRIPTION, verbose=True)"
   ]
  },
  {
   "cell_type": "code",
   "execution_count": 130,
   "metadata": {},
   "outputs": [
    {
     "name": "stderr",
     "output_type": "stream",
     "text": [
      "/var/folders/_f/t1w94w1n759_mq486wwt1z9m0000gn/T/ipykernel_31933/2368474919.py:1: LangChainDeprecationWarning: The method `Chain.run` was deprecated in langchain 0.1.0 and will be removed in 1.0. Use :meth:`~invoke` instead.\n",
      "  agent.run(\"WHat is the current fintech market size in nigeria\")\n"
     ]
    },
    {
     "name": "stdout",
     "output_type": "stream",
     "text": [
      "\n",
      "\n",
      "\u001b[1m> Entering new AgentExecutor chain...\u001b[0m\n",
      "\u001b[32;1m\u001b[1;3mThought: To find the current fintech market size in Nigeria, I need to access up-to-date information on the topic. Since the wikipedia tool is available, I can use it to search for relevant information. However, I should note that Wikipedia may not always have the most current data, so the information might be approximate or based on the latest available reports.\n",
      "\n",
      "Action: wikipedia\n",
      "Action Input: fintech market size in Nigeria\u001b[0m\n",
      "Observation: \u001b[36;1m\u001b[1;3mPage: Economy of Nigeria\n",
      "Summary: The economy of Nigeria is a middle-income, mixed economy and emerging market with expanding manufacturing, financial, service, communications, technology, and entertainment sectors. It is ranked as the 53rd-largest economy in the world in terms of nominal GDP, the sixth largest in Africa and the 27th-largest in terms of purchasing power parity.\n",
      "The country's re-emergent manufacturing sector became the largest on the continent in 2013, and it produces a large proportion of goods and services for the region of West Africa. Nigeria's debt-to-GDP ratio was 36.63% in 2021 according to the IMF.\n",
      "Although oil revenues contributed 2/3 of state revenues, oil only contributes about 9% to the GDP. Nigeria produces about 2.7% of the world's oil supply. Although the petroleum sector is important, as Nigeria's government revenues still heavily rely on this sector, it remains a small part of the country's overall economy. The largely subsistence agricultural sector has not kept up with the country's rapid population growth. Nigeria was once a large net exporter of food, but currently imports some of its food products. Mechanization has led to a resurgence in the manufacturing and exporting of food products, and there was consequently a move towards food sufficiency. In 2006, Nigeria came to an agreement with the Paris Club to buy back the bulk of its owed debts from them, in exchange for a cash payment of roughly US$12 billion.\n",
      "According to a report by Citigroup, published in February 2011, Nigeria had the highest average GDP growth in the world between 2010 and 2050. Nigeria is one of two countries from Africa among the 11 Global Growth Generators countries.\n",
      "\n",
      "Page: Open banking\n",
      "Summary: In financial services, open banking allows for financial data to be shared between banks and third-party service providers through the use of application programming interfaces (APIs). Traditionally, banks have kept customer financial data within their own closed systems. Open banking allows customers to share their financial information securely and electronically with other banks or other authorized financial organizations such as payment providers, lenders and insurance companies. \n",
      "Proponents argue open banking provides greater transparency and data control for account holders, and could allow for new financial services to be provided. Proponents also say that it aims to promote competition, innovation, and customer empowerment in the banking and financial sectors. Opponents argue that open banking can lead to greater security risk and exploitation of consumers.\n",
      "The first open banking regulations were introduced by the European Union in 2015, and many other countries have introduced financial regulations related to open banking since.\n",
      "\n",
      "\n",
      "\n",
      "Page: Walmart\n",
      "Summary: Walmart Inc. (  ; formerly Wal-Mart Stores, Inc.) is an American multinational retail corporation that operates a chain of hypermarkets (also called supercenters), discount department stores, and grocery stores in the United States and 23 other countries. It is headquartered in Bentonville, Arkansas. The company was founded in 1962 by brothers Sam and James \"Bud\" Walton in nearby Rogers, Arkansas. It also owns and operates Sam's Club retail warehouses.\n",
      "As of October 31, 2022, Walmart has 10,586 stores and clubs in 24 countries, operating under 46 different names. Walmart is the world's largest company by revenue, according to the Fortune Global 500 list in October 2022. Walmart is also the largest private employer in the world, with 2.1 million employees. It is a publicly traded family-owned business (the largest such business in the world), as the company is controlled by the Walton family. Sam Walton's heirs own over 50 percent of Walmart through both their holding company Walton Enterprises and their individual holdings.\n",
      "Walmart was listed on the New York Stock Exchange in 1972. By 1988, it was the most profitable retailer in the U.S., and it had become the larges\u001b[0m\n",
      "Thought:\u001b[32;1m\u001b[1;3mThought: The search results from Wikipedia do not provide the current fintech market size in Nigeria. The results include information on the economy of Nigeria, open banking, and Walmart, which are not directly related to the fintech market size in Nigeria.\n",
      "\n",
      "Action: wikipedia\n",
      "Action Input: nigeria fintech industry\u001b[0m\n",
      "Observation: \u001b[36;1m\u001b[1;3mPage: Economy of Nigeria\n",
      "Summary: The economy of Nigeria is a middle-income, mixed economy and emerging market with expanding manufacturing, financial, service, communications, technology, and entertainment sectors. It is ranked as the 53rd-largest economy in the world in terms of nominal GDP, the sixth largest in Africa and the 27th-largest in terms of purchasing power parity.\n",
      "The country's re-emergent manufacturing sector became the largest on the continent in 2013, and it produces a large proportion of goods and services for the region of West Africa. Nigeria's debt-to-GDP ratio was 36.63% in 2021 according to the IMF.\n",
      "Although oil revenues contributed 2/3 of state revenues, oil only contributes about 9% to the GDP. Nigeria produces about 2.7% of the world's oil supply. Although the petroleum sector is important, as Nigeria's government revenues still heavily rely on this sector, it remains a small part of the country's overall economy. The largely subsistence agricultural sector has not kept up with the country's rapid population growth. Nigeria was once a large net exporter of food, but currently imports some of its food products. Mechanization has led to a resurgence in the manufacturing and exporting of food products, and there was consequently a move towards food sufficiency. In 2006, Nigeria came to an agreement with the Paris Club to buy back the bulk of its owed debts from them, in exchange for a cash payment of roughly US$12 billion.\n",
      "According to a report by Citigroup, published in February 2011, Nigeria had the highest average GDP growth in the world between 2010 and 2050. Nigeria is one of two countries from Africa among the 11 Global Growth Generators countries.\n",
      "\n",
      "Page: FinTech Association of Nigeria\n",
      "Summary: FinTech Association of Nigeria known as FintechNGR is a Nigeria based self-regulatory, nonprofit and non-partisan organization focused on accelerating the growth of financial technology, facilitate investments and create enabling financial technological environment for innovation in Nigeria. Incorporated by Corporate Affairs Commission in 2017, FintechNGR interfaces with Nigeria financial regulators including the Central Bank of Nigeria, Securities and Exchange Commission, National Insurance Commission and the government to achieving its stated objectives. FintechNGR is a member of Global Fintech Hubs Federation and the Africa Fintech Network.\n",
      "\n",
      "Page: Paystack\n",
      "Summary: Paystack is a Nigerian financial technology (fintech) company that provides online and offline payment solutions to businesses across Africa. Founded in 2015 by Nigerian computer science graduates Shola Akinlade and Ezra Olubi, the company was accepted into Y Combinator’s startup accelerator in 2016, where it received early-stage funding in Silicon Valley. Later that year, Paystack publicly launched. By 2020, it was serving over 60,000 businesses and was acquired by Stripe for over $200 million, making it the largest startup acquisition to date from Nigeria and Stripe’s biggest acquisition at the time.\u001b[0m\n",
      "Thought:\u001b[32;1m\u001b[1;3mThought: The search results from Wikipedia still do not provide the current fintech market size in Nigeria. However, the results include information on the FinTech Association of Nigeria, which is a self-regulatory organization focused on accelerating the growth of financial technology in Nigeria, and Paystack, a Nigerian fintech company that provides online and offline payment solutions to businesses across Africa.\n",
      "\n",
      "Action: wikipedia\n",
      "Action Input: nigeria fintech market size 2024\u001b[0m\n",
      "Observation: \u001b[36;1m\u001b[1;3mPage: Economy of Nigeria\n",
      "Summary: The economy of Nigeria is a middle-income, mixed economy and emerging market with expanding manufacturing, financial, service, communications, technology, and entertainment sectors. It is ranked as the 53rd-largest economy in the world in terms of nominal GDP, the sixth largest in Africa and the 27th-largest in terms of purchasing power parity.\n",
      "The country's re-emergent manufacturing sector became the largest on the continent in 2013, and it produces a large proportion of goods and services for the region of West Africa. Nigeria's debt-to-GDP ratio was 36.63% in 2021 according to the IMF.\n",
      "Although oil revenues contributed 2/3 of state revenues, oil only contributes about 9% to the GDP. Nigeria produces about 2.7% of the world's oil supply. Although the petroleum sector is important, as Nigeria's government revenues still heavily rely on this sector, it remains a small part of the country's overall economy. The largely subsistence agricultural sector has not kept up with the country's rapid population growth. Nigeria was once a large net exporter of food, but currently imports some of its food products. Mechanization has led to a resurgence in the manufacturing and exporting of food products, and there was consequently a move towards food sufficiency. In 2006, Nigeria came to an agreement with the Paris Club to buy back the bulk of its owed debts from them, in exchange for a cash payment of roughly US$12 billion.\n",
      "According to a report by Citigroup, published in February 2011, Nigeria had the highest average GDP growth in the world between 2010 and 2050. Nigeria is one of two countries from Africa among the 11 Global Growth Generators countries.\n",
      "\n",
      "Page: Open banking\n",
      "Summary: In financial services, open banking allows for financial data to be shared between banks and third-party service providers through the use of application programming interfaces (APIs). Traditionally, banks have kept customer financial data within their own closed systems. Open banking allows customers to share their financial information securely and electronically with other banks or other authorized financial organizations such as payment providers, lenders and insurance companies. \n",
      "Proponents argue open banking provides greater transparency and data control for account holders, and could allow for new financial services to be provided. Proponents also say that it aims to promote competition, innovation, and customer empowerment in the banking and financial sectors. Opponents argue that open banking can lead to greater security risk and exploitation of consumers.\n",
      "The first open banking regulations were introduced by the European Union in 2015, and many other countries have introduced financial regulations related to open banking since.\n",
      "\n",
      "\n",
      "\n",
      "Page: Walmart\n",
      "Summary: Walmart Inc. (  ; formerly Wal-Mart Stores, Inc.) is an American multinational retail corporation that operates a chain of hypermarkets (also called supercenters), discount department stores, and grocery stores in the United States and 23 other countries. It is headquartered in Bentonville, Arkansas. The company was founded in 1962 by brothers Sam and James \"Bud\" Walton in nearby Rogers, Arkansas. It also owns and operates Sam's Club retail warehouses.\n",
      "As of October 31, 2022, Walmart has 10,586 stores and clubs in 24 countries, operating under 46 different names. Walmart is the world's largest company by revenue, according to the Fortune Global 500 list in October 2022. Walmart is also the largest private employer in the world, with 2.1 million employees. It is a publicly traded family-owned business (the largest such business in the world), as the company is controlled by the Walton family. Sam Walton's heirs own over 50 percent of Walmart through both their holding company Walton Enterprises and their individual holdings.\n",
      "Walmart was listed on the New York Stock Exchange in 1972. By 1988, it was the most profitable retailer in the U.S., and it had become the larges\u001b[0m\n",
      "Thought:\u001b[32;1m\u001b[1;3mThought: I now know the final answer\n",
      "The available data does not provide the current fintech market size in Nigeria. Wikipedia searches yielded information on the economy of Nigeria, open banking, the FinTech Association of Nigeria, and Paystack, but did not provide a specific answer to the question about the current fintech market size in Nigeria.\n",
      "\n",
      "Final Answer: The current fintech market size in Nigeria is not available in the provided data.\u001b[0m\n",
      "\n",
      "\u001b[1m> Finished chain.\u001b[0m\n"
     ]
    },
    {
     "data": {
      "text/plain": [
       "'The current fintech market size in Nigeria is not available in the provided data.'"
      ]
     },
     "execution_count": 130,
     "metadata": {},
     "output_type": "execute_result"
    }
   ],
   "source": [
    "agent.run(\"WHat is the current fintech market size in nigeria\")"
   ]
  },
  {
   "cell_type": "code",
   "execution_count": 131,
   "metadata": {},
   "outputs": [
    {
     "name": "stdout",
     "output_type": "stream",
     "text": [
      "\n",
      "\n",
      "\u001b[1m> Entering new AgentExecutor chain...\u001b[0m\n",
      "\u001b[32;1m\u001b[1;3mThought: To find the current GDP of Nigeria, I should search for the most recent data available on Wikipedia, which may have information on Nigeria's economy, including its GDP.\n",
      "\n",
      "Action: wikipedia\n",
      "Action Input: Nigeria GDP\u001b[0m\n",
      "Observation: \u001b[36;1m\u001b[1;3mPage: Economy of Nigeria\n",
      "Summary: The economy of Nigeria is a middle-income, mixed economy and emerging market with expanding manufacturing, financial, service, communications, technology, and entertainment sectors. It is ranked as the 53rd-largest economy in the world in terms of nominal GDP, the sixth largest in Africa and the 27th-largest in terms of purchasing power parity.\n",
      "The country's re-emergent manufacturing sector became the largest on the continent in 2013, and it produces a large proportion of goods and services for the region of West Africa. Nigeria's debt-to-GDP ratio was 36.63% in 2021 according to the IMF.\n",
      "Although oil revenues contributed 2/3 of state revenues, oil only contributes about 9% to the GDP. Nigeria produces about 2.7% of the world's oil supply. Although the petroleum sector is important, as Nigeria's government revenues still heavily rely on this sector, it remains a small part of the country's overall economy. The largely subsistence agricultural sector has not kept up with the country's rapid population growth. Nigeria was once a large net exporter of food, but currently imports some of its food products. Mechanization has led to a resurgence in the manufacturing and exporting of food products, and there was consequently a move towards food sufficiency. In 2006, Nigeria came to an agreement with the Paris Club to buy back the bulk of its owed debts from them, in exchange for a cash payment of roughly US$12 billion.\n",
      "According to a report by Citigroup, published in February 2011, Nigeria had the highest average GDP growth in the world between 2010 and 2050. Nigeria is one of two countries from Africa among the 11 Global Growth Generators countries.\n",
      "\n",
      "Page: List of Nigerian states by GDP\n",
      "Summary: The following table presents a listing of Nigeria's 36 states ranked in order of their estimated total GDP in 2021 according to a 2022 report by BudgIT.\n",
      "\n",
      "Page: 2014 Nigeria GDP rebasing\n",
      "Summary: In April 2014, the National Bureau of Statistics, Nigeria, under the government of Nigeria, announced changes to the way it calculated GDP, changing the calculation to more accurately reflect current prices and market structure, thus giving more weight to Nollywood and mobile phone services that had grown a lot recently. As a result, Nigeria's estimate of its GDP increased by 89%, moving it from Africa's second biggest economy (after South Africa) to the biggest economy. These changes were known as the 2014 Nigeria GDP rebasing or simply the rebasing.: viii \u001b[0m\n",
      "Thought:\u001b[32;1m\u001b[1;3mThe provided information does not include the current GDP of Nigeria. To find the current GDP, I should search for more recent data.\n",
      "\n",
      "Action: wikipedia\n",
      "Action Input: Nigeria GDP 2023\u001b[0m\n",
      "Observation: \u001b[36;1m\u001b[1;3mPage: List of Nigerian states by GDP\n",
      "Summary: The following table presents a listing of Nigeria's 36 states ranked in order of their estimated total GDP in 2021 according to a 2022 report by BudgIT.\n",
      "\n",
      "Page: Economy of Nigeria\n",
      "Summary: The economy of Nigeria is a middle-income, mixed economy and emerging market with expanding manufacturing, financial, service, communications, technology, and entertainment sectors. It is ranked as the 53rd-largest economy in the world in terms of nominal GDP, the sixth largest in Africa and the 27th-largest in terms of purchasing power parity.\n",
      "The country's re-emergent manufacturing sector became the largest on the continent in 2013, and it produces a large proportion of goods and services for the region of West Africa. Nigeria's debt-to-GDP ratio was 36.63% in 2021 according to the IMF.\n",
      "Although oil revenues contributed 2/3 of state revenues, oil only contributes about 9% to the GDP. Nigeria produces about 2.7% of the world's oil supply. Although the petroleum sector is important, as Nigeria's government revenues still heavily rely on this sector, it remains a small part of the country's overall economy. The largely subsistence agricultural sector has not kept up with the country's rapid population growth. Nigeria was once a large net exporter of food, but currently imports some of its food products. Mechanization has led to a resurgence in the manufacturing and exporting of food products, and there was consequently a move towards food sufficiency. In 2006, Nigeria came to an agreement with the Paris Club to buy back the bulk of its owed debts from them, in exchange for a cash payment of roughly US$12 billion.\n",
      "According to a report by Citigroup, published in February 2011, Nigeria had the highest average GDP growth in the world between 2010 and 2050. Nigeria is one of two countries from Africa among the 11 Global Growth Generators countries.\n",
      "\n",
      "Page: List of countries by GDP (nominal)\n",
      "Summary: Gross domestic product (GDP) is the market value of all final goods and services from a nation in a given year. Countries are sorted by nominal GDP estimates from financial and statistical institutions, which are calculated at market or government official exchange rates. Nominal GDP does not take into account differences in the cost of living in different countries, and the results can vary greatly from one year to another based on fluctuations in the exchange rates of the country's currency. Such fluctuations may change a country's ranking from one year to the next, even though they often make little or no difference in the standard of living of its population.\n",
      "Comparisons of national wealth are also frequently made based on purchasing power parity (PPP), to adjust for differences in the cost of living in different countries. Other metrics, nominal GDP per capita and a corresponding GDP (PPP) per capita are used for comparing national standard of living. On the whole, PPP per capita figures are less spread than nominal GDP per capita figures.\n",
      "The rankings of national economies over time have changed considerably; the economy of the United States surpassed the British Empire's output around 1916, which in turn had surpassed the economy of the Qing dynasty in aggregate output decades earlier. Since China's transition to a socialist market economy through controlled privatisation and deregulation, the country has seen its ranking increase from ninth in 1978, to second in 2010; China's economic growth accelerated during this period and its share of global nominal GDP surged from 2% in 1980 to 18% in 2021.\n",
      "The first list includes estimates compiled by the International Monetary Fund's World Economic Outlook, the second list shows the World Bank's data, and the third list includes data compiled by the United Nations Statistics Division. The IMF's definitive data for the past year and estimates for the current year are published twice a year in April and October. Non-sovereign entities (the world, continents, and\u001b[0m\n",
      "Thought:\u001b[32;1m\u001b[1;3msome countries) are included in the list if they have significant GDPs. \n",
      "\n",
      "Action: wikipedia\n",
      "Action Input: Nigeria nominal GDP 2023\u001b[0m\n",
      "Observation: \u001b[36;1m\u001b[1;3mPage: List of countries by past and projected GDP (nominal) per capita\n",
      "Summary: This is an alphabetical list of countries by past and projected gross domestic product per capita, based on official exchange rates, not on the purchasing power parity (PPP) methodology. Values are given in USDs and have not been adjusted for inflation. These figures have been taken from the International Monetary Fund's World Economic Outlook (WEO) Database April 2025 edition), World Bank, or various sources.\n",
      "\n",
      "\n",
      "\n",
      "Page: List of countries by GDP (nominal)\n",
      "Summary: Gross domestic product (GDP) is the market value of all final goods and services from a nation in a given year. Countries are sorted by nominal GDP estimates from financial and statistical institutions, which are calculated at market or government official exchange rates. Nominal GDP does not take into account differences in the cost of living in different countries, and the results can vary greatly from one year to another based on fluctuations in the exchange rates of the country's currency. Such fluctuations may change a country's ranking from one year to the next, even though they often make little or no difference in the standard of living of its population.\n",
      "Comparisons of national wealth are also frequently made based on purchasing power parity (PPP), to adjust for differences in the cost of living in different countries. Other metrics, nominal GDP per capita and a corresponding GDP (PPP) per capita are used for comparing national standard of living. On the whole, PPP per capita figures are less spread than nominal GDP per capita figures.\n",
      "The rankings of national economies over time have changed considerably; the economy of the United States surpassed the British Empire's output around 1916, which in turn had surpassed the economy of the Qing dynasty in aggregate output decades earlier. Since China's transition to a socialist market economy through controlled privatisation and deregulation, the country has seen its ranking increase from ninth in 1978, to second in 2010; China's economic growth accelerated during this period and its share of global nominal GDP surged from 2% in 1980 to 18% in 2021.\n",
      "The first list includes estimates compiled by the International Monetary Fund's World Economic Outlook, the second list shows the World Bank's data, and the third list includes data compiled by the United Nations Statistics Division. The IMF's definitive data for the past year and estimates for the current year are published twice a year in April and October. Non-sovereign entities (the world, continents, and some dependent territories) and states with limited international recognition (such as Kosovo and Taiwan) are included in the list where they appear in the sources.\n",
      "\n",
      "\n",
      "\n",
      "Page: List of countries by GDP (nominal) per capita\n",
      "Summary: This is a list of countries by nominal GDP per capita. GDP per capita is the total value of a country's finished goods and services (Gross domestic product) divided by its total population (per capita).\n",
      "Gross domestic product (GDP) per capita is often considered an indicator of a country's standard of living; however, this is inaccurate because GDP per capita is not a measure of personal income. Measures of personal income include average wage, real income, median income, disposable income and GNI per capita.\n",
      "Comparisons of GDP per capita are also frequently made on the basis of purchasing power parity (PPP), to adjust for differences in the cost of living in different countries, see List of countries by GDP (PPP) per capita. PPP largely removes the exchange rate problem but not others; it does not reflect the value of economic output in international trade, and it also requires more estimation than GDP per capita. On the whole, PPP per capita figures are more narrowly spread than nominal GDP per capita figures.\n",
      "The figures presented here do not take into account differences in the cost of living in different countries, and the results vary greatly from one year\u001b[0m\n",
      "Thought:\u001b[32;1m\u001b[1;3mto another based on fluctuations in the exchange rates of the country's currency. \n",
      "\n",
      "Action: wikipedia\n",
      "Action Input: Nigeria GDP 2024\u001b[0m\n",
      "Observation: \u001b[36;1m\u001b[1;3mPage: Economy of Nigeria\n",
      "Summary: The economy of Nigeria is a middle-income, mixed economy and emerging market with expanding manufacturing, financial, service, communications, technology, and entertainment sectors. It is ranked as the 53rd-largest economy in the world in terms of nominal GDP, the sixth largest in Africa and the 27th-largest in terms of purchasing power parity.\n",
      "The country's re-emergent manufacturing sector became the largest on the continent in 2013, and it produces a large proportion of goods and services for the region of West Africa. Nigeria's debt-to-GDP ratio was 36.63% in 2021 according to the IMF.\n",
      "Although oil revenues contributed 2/3 of state revenues, oil only contributes about 9% to the GDP. Nigeria produces about 2.7% of the world's oil supply. Although the petroleum sector is important, as Nigeria's government revenues still heavily rely on this sector, it remains a small part of the country's overall economy. The largely subsistence agricultural sector has not kept up with the country's rapid population growth. Nigeria was once a large net exporter of food, but currently imports some of its food products. Mechanization has led to a resurgence in the manufacturing and exporting of food products, and there was consequently a move towards food sufficiency. In 2006, Nigeria came to an agreement with the Paris Club to buy back the bulk of its owed debts from them, in exchange for a cash payment of roughly US$12 billion.\n",
      "According to a report by Citigroup, published in February 2011, Nigeria had the highest average GDP growth in the world between 2010 and 2050. Nigeria is one of two countries from Africa among the 11 Global Growth Generators countries.\n",
      "\n",
      "Page: List of countries by spending on education as percentage of GDP\n",
      "Summary: This list shows the government spending on education of various countries and subnational areas by percent (%) of GDP (1989–2022). It does not include private expenditure on education.\n",
      "\n",
      "Page: List of countries by GDP (nominal)\n",
      "Summary: Gross domestic product (GDP) is the market value of all final goods and services from a nation in a given year. Countries are sorted by nominal GDP estimates from financial and statistical institutions, which are calculated at market or government official exchange rates. Nominal GDP does not take into account differences in the cost of living in different countries, and the results can vary greatly from one year to another based on fluctuations in the exchange rates of the country's currency. Such fluctuations may change a country's ranking from one year to the next, even though they often make little or no difference in the standard of living of its population.\n",
      "Comparisons of national wealth are also frequently made based on purchasing power parity (PPP), to adjust for differences in the cost of living in different countries. Other metrics, nominal GDP per capita and a corresponding GDP (PPP) per capita are used for comparing national standard of living. On the whole, PPP per capita figures are less spread than nominal GDP per capita figures.\n",
      "The rankings of national economies over time have changed considerably; the economy of the United States surpassed the British Empire's output around 1916, which in turn had surpassed the economy of the Qing dynasty in aggregate output decades earlier. Since China's transition to a socialist market economy through controlled privatisation and deregulation, the country has seen its ranking increase from ninth in 1978, to second in 2010; China's economic growth accelerated during this period and its share of global nominal GDP surged from 2% in 1980 to 18% in 2021.\n",
      "The first list includes estimates compiled by the International Monetary Fund's World Economic Outlook, the second list shows the World Bank's data, and the third list includes data compiled by the United Nations Statistics Division. The IMF's definitive data for the past year and estimates for the current year are published twice a year in Apri\u001b[0m\n",
      "Thought:\u001b[32;1m\u001b[1;3mIt appears that the search results do not provide the current GDP of Nigeria. Let me try again.\n",
      "\n",
      "Action: wikipedia\n",
      "Action Input: Nigeria GDP 2023 estimate\u001b[0m\n",
      "Observation: \u001b[36;1m\u001b[1;3mPage: List of countries by GDP (PPP)\n",
      "Summary: GDP (PPP) means gross domestic product based on purchasing power parity.  \n",
      "This article includes a list of countries by their forecast estimated GDP (PPP). Countries are sorted by GDP (PPP) forecast estimates from financial and statistical institutions that calculate using market or government official exchange rates. The data given on this page are based on the international dollar, a standardized unit used by economists. Certain regions that are not widely considered countries such as Hong Kong also show up in the list if they are distinct jurisdiction areas or economic entities.\n",
      "GDP comparisons using PPP are arguably more useful than those using nominal GDP when assessing the domestic market of a state because PPP takes into account the relative cost of local goods, services and inflation rates of the country, rather than using international market exchange rates, which may distort the real differences in per capita income. It is however limited when measuring financial flows between countries and when comparing the quality of same goods among countries. PPP is often used to gauge global poverty thresholds and is used by the United Nations in constructing the human development index. These surveys such as the International Comparison Program include both tradable and non-tradable goods in an attempt to estimate a representative basket of all goods.\n",
      "The first set of data on the left columns of the table includes estimates for the year 2023 made for each economy of the 196 economies (189 U.N. member states and 7 areas of Aruba, Hong Kong, Kosovo, Macau, Palestine, Puerto Rico, and Taiwan) covered by the International Monetary Fund (IMF)'s International Financial Statistics (IFS) database. The data is in millions of international dollars and was calculated and published by the IMF in October 2023. The second table includes data, mostly for the year 2022, for 180 of the 193 current United Nations member states as well as Hong Kong and Macau (the two Chinese Special Administrative Regions). Data are in millions of international dollars; they were compiled by the World Bank. The third table is a tabulation of the CIA World Factbook GDP (PPP) data update of 2019. The data for GDP at purchasing power parity has also been rebased using the new International Comparison Program price surveys and extrapolated to 2007. Non-sovereign entities (the world, continents, and some dependent territories) and states with limited recognition (such as Kosovo, Palestine and Taiwan) are included in the list in cases in which they appear in the sources. These economies are not ranked in the charts here, but are listed in sequence by GDP for comparison. In addition, non-sovereign entities are marked in  yellow .\n",
      "\n",
      "\n",
      "\n",
      "Page: List of countries by past and projected GDP (nominal) per capita\n",
      "Summary: This is an alphabetical list of countries by past and projected gross domestic product per capita, based on official exchange rates, not on the purchasing power parity (PPP) methodology. Values are given in USDs and have not been adjusted for inflation. These figures have been taken from the International Monetary Fund's World Economic Outlook (WEO) Database April 2025 edition), World Bank, or various sources.\n",
      "\n",
      "\n",
      "\n",
      "Page: List of Nigerian states by GDP\n",
      "Summary: The following table presents a listing of Nigeria's 36 states ranked in order of their estimated total GDP in 2021 according to a 2022 report by BudgIT.\u001b[0m\n",
      "Thought:\u001b[32;1m\u001b[1;3mI now know the final answer.\n",
      "\n",
      "The search results do not provide the current GDP of Nigeria. The available data is from 2021 or earlier, and there is no information on the current GDP of Nigeria.\n",
      "\n",
      "Final Answer: The current GDP of Nigeria is not available in the search results.\u001b[0m\n",
      "\n",
      "\u001b[1m> Finished chain.\u001b[0m\n"
     ]
    },
    {
     "data": {
      "text/plain": [
       "'The current GDP of Nigeria is not available in the search results.'"
      ]
     },
     "execution_count": 131,
     "metadata": {},
     "output_type": "execute_result"
    }
   ],
   "source": [
    "agent.run(\"WHat is the current GDP of nigeria\")"
   ]
  },
  {
   "cell_type": "code",
   "execution_count": null,
   "metadata": {},
   "outputs": [],
   "source": []
  }
 ],
 "metadata": {
  "kernelspec": {
   "display_name": "Python 3 (ipykernel)",
   "language": "python",
   "name": "python3"
  },
  "language_info": {
   "codemirror_mode": {
    "name": "ipython",
    "version": 3
   },
   "file_extension": ".py",
   "mimetype": "text/x-python",
   "name": "python",
   "nbconvert_exporter": "python",
   "pygments_lexer": "ipython3",
   "version": "3.13.0"
  }
 },
 "nbformat": 4,
 "nbformat_minor": 4
}
