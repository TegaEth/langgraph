{
 "cells": [
  {
   "cell_type": "code",
   "execution_count": 1,
   "metadata": {},
   "outputs": [
    {
     "data": {
      "text/plain": [
       "True"
      ]
     },
     "execution_count": 1,
     "metadata": {},
     "output_type": "execute_result"
    }
   ],
   "source": [
    "import os\n",
    "from dotenv import load_dotenv\n",
    "load_dotenv()"
   ]
  },
  {
   "cell_type": "code",
   "execution_count": 2,
   "metadata": {},
   "outputs": [],
   "source": [
    "CEREBRAS_API_KEY=os.getenv('CEREBRAS_API_KEY')\n",
    "TAVILY_API_KEY=os.getenv('TAVILY_API_KEY')\n",
    "LANGSMITH_API_KEY = os.getenv('LANGSMITH_API_KEY')\n",
    "LANGSMITH_TRACING=os.getenv('LANGSMITH_TRACING')\n",
    "LANGSMITH_ENDPOINT=os.getenv('LANGSMITH_ENDPOINT')\n",
    "LANGSMITH_API_KEY=os.getenv('LANGSMITH_API_KEY')\n",
    "LANGSMITH_PROJECT=os.getenv('LANGSMITH_PROJECT')\n",
    "TAVILY_API_KEY=os.getenv('TAVILY_API_KEY')"
   ]
  },
  {
   "cell_type": "code",
   "execution_count": 3,
   "metadata": {},
   "outputs": [],
   "source": [
    "os.environ['CEREBRAS_API_KEY'] = CEREBRAS_API_KEY\n",
    "os.environ['TAVILY_API_KEY'] = TAVILY_API_KEY\n",
    "os.environ['LANGSMITH_API_KEY'] = LANGSMITH_API_KEY\n",
    "os.environ['LANGSMITH_TRACING'] = \"true\"\n",
    "os.environ['LANGSMITH_ENDPOINT'] = \"https://api.smith.langchain.com\"\n",
    "os.environ['LANGSMITH_PROJECT'] = LANGSMITH_PROJECT\n",
    "os.environ['TAVILY_API_KEY'] = TAVILY_API_KEY"
   ]
  },
  {
   "cell_type": "code",
   "execution_count": 4,
   "metadata": {},
   "outputs": [],
   "source": [
    "from langchain_cerebras import ChatCerebras\n",
    "\n",
    "llm = ChatCerebras(\n",
    "    model=\"llama-3.3-70b\",\n",
    ")"
   ]
  },
  {
   "cell_type": "code",
   "execution_count": 5,
   "metadata": {},
   "outputs": [],
   "source": [
    "# from sentence_transformers import SentenceTransformer\n",
    "# embedding = SentenceTransformer('sentence-transformers/multi-qa-MiniLM-L6-cos-v1')\n",
    "\n",
    "from langchain_huggingface import HuggingFaceEmbeddings\n",
    "\n",
    "# Wrapping the SentenceTransformer with LangChain-compatible embedding\n",
    "embedding = HuggingFaceEmbeddings(model_name=\"sentence-transformers/multi-qa-MiniLM-L6-cos-v1\")"
   ]
  },
  {
   "cell_type": "markdown",
   "metadata": {},
   "source": [
    "# Predefine Tools"
   ]
  },
  {
   "cell_type": "code",
   "execution_count": 6,
   "metadata": {},
   "outputs": [],
   "source": [
    "from langchain_community.tools import WikipediaQueryRun\n",
    "from langchain_community.utilities import WikipediaAPIWrapper"
   ]
  },
  {
   "cell_type": "code",
   "execution_count": 8,
   "metadata": {},
   "outputs": [
    {
     "name": "stdout",
     "output_type": "stream",
     "text": [
      "Page: LangChain\n",
      "Summary: LangChain is a software framework that helps facilitate the integration of large language models (LLMs) into applications. As a language model integration framework, LangChain's use-cases largely overlap with those of language models in general, including document analysis and summarization, chatbots, and code analysis.\n",
      "\n",
      "\n",
      "\n",
      "Page: Retrieval-augmented generation\n",
      "Summary: Retrieval-augmented generation (RAG) is a technique that enables generative artificial intelligence (Gen AI) models to retrieve and incorporate new information. It modifies interactions with a large language model (LLM) so that the model responds to user queries with reference to a specified set of documents, using this information to supplement information from its pre-existing training data. This allows LLMs to use domain-specific and/or updated information. Use cases include providing chatbot access to internal company data or generating responses based on authoritative sources.\n",
      "RAG improves large language models (LLMs) by incorporating information retrieval before generating responses. Unlike traditional LLMs that rely on static training data, RAG pulls relevant text from databases, uploaded documents, or web sources. According to Ars Technica, \"RAG is a way of improving LLM performance, in essence by blending the LLM process with a web search or other document look-up process to help LLMs stick to the facts.\" This method helps reduce AI hallucinations, which have led to real-world issues like chatbots inventing policies or lawyers citing nonexistent legal cases.\n",
      "By dynamically retrieving information, RAG enables AI to provide more accurate responses without frequent retraining. According to IBM, \"RAG also reduces the need for users to continuously train the model on new data and update its parameters as circumstances evolve. In this way, RAG can lower the computational and financial costs of running LLM-powered chatbots in an enterprise setting.\"\n",
      "Beyond efficiency gains, RAG also allows LLMs to include source references in their responses, enabling users to verify information by reviewing cited documents or original sources. This can provide greater transparency, as users can cross-check retrieved content to ensure accuracy and relevance.\n",
      "The term RAG was first introduced in 2020 by Douwe Kiela, Patrick Lewis, Ethan Perez, Aleksandra Piktus, Fabio Petroni, Vladimir Karpukhin, Naman Goyal, Heinrich Küttler, Mike Lewis, Wen-tau Yih, Tim Rocktäschel, and Sebastian Riedel in their research paper Retrieval-Augmented Generation for Knowledge-Intensive NLP Tasks, at Meta.\n",
      "\n",
      "Page: Milvus (vector database)\n",
      "Summary: Milvus is a distributed vector database developed by Zilliz. It is available as both open-source software and a cloud service.\n",
      "Milvus is an open-source project under LF AI & Data Foundation distributed under the Apache License 2.0.\n"
     ]
    }
   ],
   "source": [
    "api_wrapper = WikipediaAPIWrapper()\n",
    "tool = WikipediaQueryRun(api_wrapper=api_wrapper)\n",
    "print(tool.run({'query':'langchain'}))"
   ]
  },
  {
   "cell_type": "code",
   "execution_count": 10,
   "metadata": {},
   "outputs": [
    {
     "data": {
      "text/plain": [
       "[{'title': 'Ochi | Wookieepedia - Fandom',\n",
       "  'url': 'https://starwars.fandom.com/wiki/Ochi',\n",
       "  'content': \"Ochi was a Bestoonian male assassin and cultist of the Sith known as Ochi of Bestoon, hailing from the world of the same name with a career spanning decades, from the twilight of the Galactic Republic, and the subsequent rise of the Galactic Empire to the era of the New Republic. Ochi possessed a personal Sith dagger used to commit acts of murder, and had head implants. Trained in combat and martial skills, Ochi was a very capable fighter and lent his services to the Sith Lords Darth Sidious [...] During the Imperial Era, Ochi was an associate of advisor Yupe Tashu and was employed as an assassin by both the Emperor, Darth Sidious, and his right-hand, Darth Vader. Ochi also took part in the auction of Han Solo and became an undercover operative of Lady Qi'ra and Crimson Dawn following the Battle of Hoth at the height of the Galactic Civil War. [...] By this time, Ochi's bones had been picked clean by gouge-beetles.[13] Unlike Ochi, however, Rey and the others escaped the caves, and Rey sought justice for her parents. After Rey left the others behind on Kef Bir, D-O stated that he missed her. Finn asked the droid his name, but then learned that D-O had a lot of information on Exegol, which was Ochi's intended destination before his death.[7]\\n\\nPersonality and traits[]\\n\\nOchi was a devoted Sith assassin and Jedi hunter.\",\n",
       "  'score': 0.78944516},\n",
       " {'title': 'Ochi | Disney Wiki - Fandom',\n",
       "  'url': 'https://disney.fandom.com/wiki/Ochi',\n",
       "  'content': \"Ochi, also known as Ochi of Bestoon, is a recurring antagonist in the Star Wars franchise.\\n\\nContents\\n\\nBackground[] [...] Ochi was born on the planet Bestoon. He was a known Jedi hunter since the Clone Wars and became an assassin obsessed with finding Sith relics. At some point, he obtained the droid D-O from one of his victims. Shadow of the Sith, reveals he abused the droid and he was reactivated by the Sith. He owned a  modified WTK-85A interstellar transport called the Bestoon Legacy, which was left with D-O on Pasaana after the Sith assassin's demise there. Ochi also possessed a personal Sith dagger used to [...] Ochi\\n\\nOchi\\n\\nBackground information\\n\\nFeature films\\nStar Wars: The Rise of Skywalker\\n\\n\\nPortrayed by\\nLiam Cook\\n\\n\\n\\nCharacter information\\n\\nFull name\\nOchi\\n\\n\\nOther names\\nOchi of Bestoon\\n\\n\\nOccupation\\nMaster Assassin in the Assassin's GuildMember of the Acolytes of BeyondSith Assassin of the Sith EternalAgent and Spy of the Crimson Dawn (formerly)\\n\\n\\nAffiliations\\nAssassin's GuildAcolytes of BeyondSith OrderSith EternalCrimson Dawn (formerly)\\n\\n\\nHome\\nBestoon\",\n",
       "  'score': 0.75442725},\n",
       " {'title': 'Ochi Ojie (@bunchiochi_) • Instagram photos and videos',\n",
       "  'url': 'https://www.instagram.com/bunchiochi_/reels/',\n",
       "  'content': '2521 Followers, 5737 Following, 7 Posts - Ochi Ojie (@bunchiochi_) on Instagram: \"CoFounder, CTO of FBA Finance. Software Engineer\"',\n",
       "  'score': 0.7253574},\n",
       " {'title': 'Ochi Ojie (@bunchiochi_) • Instagram photos and videos',\n",
       "  'url': 'https://www.instagram.com/bunchiochi_/',\n",
       "  'content': '2363 Followers, 6331 Following, 12 Posts - Ochi Ojie (@bunchiochi_) on Instagram: \"CoFounder, CTO of FBA Finance. Software Engineer\"',\n",
       "  'score': 0.7244226},\n",
       " {'title': 'Ochi Ojie - Facebook',\n",
       "  'url': 'https://m.facebook.com/ochi.ojie.9/',\n",
       "  'content': 'I am just a brilliant guy with a wild imagination. . Chief executive officer at Self-Employed. . Studied Mechatronics & Robotics Engineering at Harvard',\n",
       "  'score': 0.65914243}]"
      ]
     },
     "execution_count": 10,
     "metadata": {},
     "output_type": "execute_result"
    }
   ],
   "source": [
    "from langchain_community.tools.tavily_search import TavilySearchResults\n",
    "tool = TavilySearchResults()\n",
    "tool.invoke({'query': 'Who is Ochi Ojie'})"
   ]
  },
  {
   "cell_type": "markdown",
   "metadata": {},
   "source": [
    "# Create a custom tool"
   ]
  },
  {
   "cell_type": "code",
   "execution_count": 12,
   "metadata": {},
   "outputs": [],
   "source": [
    "from langchain.agents import tool\n",
    "\n",
    "@tool\n",
    "def get_word_length(word: str) -> int:\n",
    "    \"\"\"Returns the length of a word\"\"\"\n",
    "    return len(word)"
   ]
  },
  {
   "cell_type": "code",
   "execution_count": 13,
   "metadata": {},
   "outputs": [
    {
     "data": {
      "text/plain": [
       "3"
      ]
     },
     "execution_count": 13,
     "metadata": {},
     "output_type": "execute_result"
    }
   ],
   "source": [
    "get_word_length.invoke(\"abc\")"
   ]
  },
  {
   "cell_type": "code",
   "execution_count": 14,
   "metadata": {},
   "outputs": [
    {
     "data": {
      "text/plain": [
       "10"
      ]
     },
     "execution_count": 14,
     "metadata": {},
     "output_type": "execute_result"
    }
   ],
   "source": [
    "get_word_length.invoke(\"bunchiochi\")"
   ]
  },
  {
   "cell_type": "code",
   "execution_count": 16,
   "metadata": {},
   "outputs": [],
   "source": [
    "@tool\n",
    "def multiply(a: int, b: int) ->int:\n",
    "    \"\"\"Multiple two numbers\"\"\"\n",
    "    return a * b\n",
    "\n",
    "\n",
    "@tool\n",
    "def summation(a: int, b: int) ->int:\n",
    "    \"\"\"Multiple two numbers\"\"\"\n",
    "    return a + b"
   ]
  },
  {
   "cell_type": "code",
   "execution_count": 18,
   "metadata": {},
   "outputs": [
    {
     "data": {
      "text/plain": [
       "'Multiple two numbers'"
      ]
     },
     "execution_count": 18,
     "metadata": {},
     "output_type": "execute_result"
    }
   ],
   "source": [
    "multiply.description"
   ]
  },
  {
   "cell_type": "code",
   "execution_count": 21,
   "metadata": {},
   "outputs": [
    {
     "data": {
      "text/plain": [
       "40"
      ]
     },
     "execution_count": 21,
     "metadata": {},
     "output_type": "execute_result"
    }
   ],
   "source": [
    "multiply.invoke({\"a\":20, \"b\":2})"
   ]
  },
  {
   "cell_type": "code",
   "execution_count": 22,
   "metadata": {},
   "outputs": [
    {
     "data": {
      "text/plain": [
       "22"
      ]
     },
     "execution_count": 22,
     "metadata": {},
     "output_type": "execute_result"
    }
   ],
   "source": [
    "summation.invoke({\"a\":20, \"b\":2})"
   ]
  },
  {
   "cell_type": "markdown",
   "metadata": {},
   "source": [
    "# Concept of Agents"
   ]
  },
  {
   "cell_type": "code",
   "execution_count": 24,
   "metadata": {},
   "outputs": [],
   "source": [
    "from langchain.agents import AgentType\n",
    "from langchain.agents import load_tools\n",
    "from langchain.agents import initialize_agent"
   ]
  },
  {
   "cell_type": "code",
   "execution_count": 25,
   "metadata": {},
   "outputs": [],
   "source": [
    "tool=load_tools([\"wikipedia\"], llm=llm)"
   ]
  },
  {
   "cell_type": "code",
   "execution_count": 27,
   "metadata": {},
   "outputs": [
    {
     "name": "stderr",
     "output_type": "stream",
     "text": [
      "/var/folders/_f/t1w94w1n759_mq486wwt1z9m0000gn/T/ipykernel_64649/2451433261.py:1: LangChainDeprecationWarning: LangChain agents will continue to be supported, but it is recommended for new use cases to be built with LangGraph. LangGraph offers a more flexible and full-featured framework for building agents, including support for tool-calling, persistence of state, and human-in-the-loop workflows. For details, refer to the `LangGraph documentation <https://langchain-ai.github.io/langgraph/>`_ as well as guides for `Migrating from AgentExecutor <https://python.langchain.com/docs/how_to/migrate_agent/>`_ and LangGraph's `Pre-built ReAct agent <https://langchain-ai.github.io/langgraph/how-tos/create-react-agent/>`_.\n",
      "  agent = initialize_agent(tool, llm, agent=AgentType.ZERO_SHOT_REACT_DESCRIPTION, verbose=True)\n"
     ]
    }
   ],
   "source": [
    "agent = initialize_agent(tool, llm, agent=AgentType.ZERO_SHOT_REACT_DESCRIPTION, verbose=True)"
   ]
  },
  {
   "cell_type": "code",
   "execution_count": 29,
   "metadata": {},
   "outputs": [
    {
     "name": "stdout",
     "output_type": "stream",
     "text": [
      "\n",
      "\n",
      "\u001b[1m> Entering new AgentExecutor chain...\u001b[0m\n",
      "\u001b[32;1m\u001b[1;3mThought: To answer the question \"what is Elon Musk\", I need to find information about Elon Musk, so I should search for him on Wikipedia.\n",
      "\n",
      "Action: wikipedia\n",
      "Action Input: Elon Musk\u001b[0m\n",
      "Observation: \u001b[36;1m\u001b[1;3mPage: Elon Musk\n",
      "Summary: Elon Reeve Musk ( EE-lon; born June 28, 1971) is a businessman known for his leadership of Tesla, SpaceX, and X (formerly Twitter). Since 2025, he has been a senior advisor to United States president Donald Trump and the de facto head of the Department of Government Efficiency (DOGE). Musk has been considered the wealthiest person in the world since 2021; as of May 2025, Forbes estimates his net worth to be US$424.7 billion. He was named Time magazine's Person of the Year in 2021.\n",
      "Born to a wealthy family in Pretoria, South Africa, Musk emigrated in 1989 to Canada. He graduated from the University of Pennsylvania in the U.S. before moving to California to pursue business ventures. In 1995, Musk co-founded the software company Zip2. Following its sale in 1999, he co-founded X.com, an online payment company that later merged to form PayPal, which was acquired by eBay in 2002. That year, Musk also became a U.S. citizen.\n",
      "In 2002, Musk founded the space technology company SpaceX, becoming its CEO and chief engineer; the company has since led innovations in reusable rockets and commercial spaceflight. Musk joined the automaker Tesla as an early investor in 2004 and became its CEO and product architect in 2008; it has since become a leader in electric vehicles. In 2015, he co-founded OpenAI to advance artificial intelligence research but later left; growing discontent with the organization's direction in the 2020s led him to establish xAI. In 2022, he acquired the social network Twitter, implementing significant changes and rebranding it as X in 2023. In January 2025, he was appointed head of Trump's newly created DOGE. His other businesses include the neurotechnology company Neuralink, which he co-founded in 2016, and the tunneling company the Boring Company, which he founded in 2017.\n",
      "Musk's political activities and views have made him a polarizing figure. He has been criticized for making unscientific and misleading statements, including COVID-19 misinformation and promoting conspiracy theories, and affirming antisemitic, racist, and transphobic comments. His acquisition of Twitter was controversial due to a subsequent increase in hate speech and the spread of misinformation on the service. Especially since the 2024 U.S. presidential election, Musk has been heavily involved in politics as a vocal supporter of Trump. Musk was the largest donor in the 2024 U.S. presidential election and is a supporter of global far-right figures, causes, and political parties. His role in the second Trump administration, particularly in regards to DOGE, has attracted public backlash.\n",
      "\n",
      "\n",
      "\n",
      "Page: Views of Elon Musk\n",
      "Summary: Elon Musk is the owner of multiple companies, the wealthiest individual in the world, and a US government employee. Having rejected the conservative label, Musk has described himself as a political moderate; his views have become more right-wing over time, and have been characterized as libertarian and far-right. As the owner of Twitter, he has  suppressed critics, and after his involvement in European politics, his views have received criticism from some world leaders. Musk has also expressed his opinion on topics from science and technology to religion and philosophy.\n",
      "Within the context of American politics, Musk voted for Democratic candidates from 2008 until 2020, before switching to Republican candidates in 2022, and supporting Donald Trump in 2024 who he previously feuded with. He has identified as a  \"free speech absolutist\" and has expressed support for universal basic income, gun rights, a tax on carbon emissions, and H-1B visas. Musk has been a critic of wealth tax, short-selling, government subsidies and Wikipedia, and expressed concern about the perceived dangers of artificial intelligence (AI) and climate change. He has criticized public transportation and transit systems, rejected labor unions, and is a pronatalist. During the COVID-19 pandemic in 2020, Musk defied lockdowns, describing them as \"\u001b[0m\n",
      "Thought:\u001b[32;1m\u001b[1;3mThought: I have found a wealth of information about Elon Musk on Wikipedia, including his biography, business ventures, and political views. To provide a concise answer, I should summarize the key points from the Wikipedia pages.\n",
      "\n",
      "Action: None\n",
      "Action Input: None\u001b[0m\n",
      "Observation: None is not a valid tool, try one of [wikipedia].\n",
      "Thought:\u001b[32;1m\u001b[1;3mThought: I now know the final answer\n",
      "Final Answer: Elon Musk is a businessman and entrepreneur known for his leadership of companies such as Tesla, SpaceX, and X (formerly Twitter). He is considered the wealthiest person in the world, with a net worth of over $424 billion. Musk has been involved in various business ventures, including the development of reusable rockets, electric vehicles, and artificial intelligence research. He has also been a prominent figure in politics, having supported Donald Trump and been appointed as the head of the Department of Government Efficiency (DOGE). Musk's views have been characterized as libertarian and far-right, and he has been criticized for making unscientific and misleading statements, as well as promoting conspiracy theories.\u001b[0m\n",
      "\n",
      "\u001b[1m> Finished chain.\u001b[0m\n"
     ]
    },
    {
     "data": {
      "text/plain": [
       "\"Elon Musk is a businessman and entrepreneur known for his leadership of companies such as Tesla, SpaceX, and X (formerly Twitter). He is considered the wealthiest person in the world, with a net worth of over $424 billion. Musk has been involved in various business ventures, including the development of reusable rockets, electric vehicles, and artificial intelligence research. He has also been a prominent figure in politics, having supported Donald Trump and been appointed as the head of the Department of Government Efficiency (DOGE). Musk's views have been characterized as libertarian and far-right, and he has been criticized for making unscientific and misleading statements, as well as promoting conspiracy theories.\""
      ]
     },
     "execution_count": 29,
     "metadata": {},
     "output_type": "execute_result"
    }
   ],
   "source": [
    "agent.run(\"what is Elon Musk\")"
   ]
  },
  {
   "cell_type": "code",
   "execution_count": null,
   "metadata": {},
   "outputs": [],
   "source": []
  }
 ],
 "metadata": {
  "kernelspec": {
   "display_name": "Python 3 (ipykernel)",
   "language": "python",
   "name": "python3"
  },
  "language_info": {
   "codemirror_mode": {
    "name": "ipython",
    "version": 3
   },
   "file_extension": ".py",
   "mimetype": "text/x-python",
   "name": "python",
   "nbconvert_exporter": "python",
   "pygments_lexer": "ipython3",
   "version": "3.13.0"
  }
 },
 "nbformat": 4,
 "nbformat_minor": 4
}
